{
  "nbformat": 4,
  "nbformat_minor": 0,
  "metadata": {
    "colab": {
      "provenance": [],
      "include_colab_link": true
    },
    "kernelspec": {
      "name": "python3",
      "display_name": "Python 3"
    },
    "language_info": {
      "name": "python"
    }
  },
  "cells": [
    {
      "cell_type": "markdown",
      "metadata": {
        "id": "view-in-github",
        "colab_type": "text"
      },
      "source": [
        "<a href=\"https://colab.research.google.com/github/rubbycarysha/tugas.rubby.TugasInheritanceSiswa1./blob/main/Copy_of_TugasInheritanceSiswa1.ipynb\" target=\"_parent\"><img src=\"https://colab.research.google.com/assets/colab-badge.svg\" alt=\"Open In Colab\"/></a>"
      ]
    },
    {
      "cell_type": "markdown",
      "source": [
        "Buatlah class Karyawan yang memiliki atribut id, nama dan departemen dan sebuah fungsi bernama hitung_gaji. Untuk hitung gaji pada class Karyawan tidak berisi perhitungan gaji, namun hanya berisi pass"
      ],
      "metadata": {
        "id": "Um7eIwqGTwV8"
      }
    },
    {
      "cell_type": "code",
      "execution_count": 16,
      "metadata": {
        "id": "LMDiMb1-Dtzp"
      },
      "outputs": [],
      "source": [
        "class Karyawan:\n",
        " def __init__(self, id, nama, sekertaris):\n",
        "  self.id = id\n",
        "  self.nama = nama\n",
        "  self.sekertaris = sekertaris"
      ]
    },
    {
      "cell_type": "code",
      "source": [
        "\n",
        "def hitung_gaji (self):\n",
        "  pass"
      ],
      "metadata": {
        "id": "SwI_FOqw01Bo"
      },
      "execution_count": 17,
      "outputs": []
    },
    {
      "cell_type": "markdown",
      "source": [
        "Buatlah class Penuh yang merupakan turunan dari class Karyawan dan memili atribut tambahan bernama gaji. Kemudian class Penuh ini juga memiliki fungsi hitung_gaji sendiri yang berfungsi mengembalikan nilai gajinya."
      ],
      "metadata": {
        "id": "CLMRhqWUUHoZ"
      }
    },
    {
      "cell_type": "code",
      "source": [
        "class Penuh(Karyawan):\n",
        "  def __init__(self, id, nama, sekertaris, gaji):\n",
        "    super().__init__(id, nama, sekertaris,)\n",
        "    self.gaji = gaji\n",
        "\n",
        "  def hitung_gaji(self):\n",
        "    return self.gaji"
      ],
      "metadata": {
        "id": "2wPElp-u083g"
      },
      "execution_count": 18,
      "outputs": []
    },
    {
      "cell_type": "markdown",
      "source": [
        "Buatlah class ParuhWaktu yang merupakan turunan dari class Karyawan dan memiliki 2 atribut tambahan bernama jam_kerja dan tarif_per_jam. Kemudian class ParuhWaktu ini juga memiliki fungsi hitung_gaji sendiri yang berfungsi mengembalikan nilai gajinya dengan rumus jam_kerja dikalikan tarif_per_jam."
      ],
      "metadata": {
        "id": "ywi3yeiqUjlh"
      }
    },
    {
      "cell_type": "code",
      "source": [
        "class ParuhWaktu(Karyawan):\n",
        "  def __init__(self, id, nama, sekertaris, jam_kerja, tarif_per_jam):\n",
        "    super().__init__(id, nama, sekertaris)\n",
        "    self.jam_kerja = jam_kerja\n",
        "    self.tarif_per_jam = tarif_per_jam\n",
        "  def hitung_gaji(self):\n",
        "    return self.jam_kerja * self.tarif_per_jam"
      ],
      "metadata": {
        "id": "nuUJqxSf1Dog"
      },
      "execution_count": 19,
      "outputs": []
    },
    {
      "cell_type": "markdown",
      "source": [
        "Kemudian jalankan kode program berikut ini, ubah kode karyawan, nama, departemen, gaji, jam_kerja dan tarif_per_jam sesuai keinginan anda sendiri"
      ],
      "metadata": {
        "id": "qjE3CE61VSzn"
      }
    },
    {
      "cell_type": "code",
      "source": [
        "# Membuat objek dari kelas anak\n",
        "budi = Penuh(\"FT001\", \"Budi\", \"HR\", 10000000)\n",
        "carysha = ParuhWaktu(\"PT001\", \"Carysha\", \"IT\", 20, 150000)\n",
        "\n",
        "# Menghitung gaji\n",
        "print(f\"Gaji {budi.nama}: Rp {budi.hitung_gaji()}\")  # Output: Gaji Budi: Rp 10000000\n",
        "print(f\"Gaji {carysha.nama}: Rp {carysha.hitung_gaji()}\")  # Output: Gaji Carysha: Rp 3000000"
      ],
      "metadata": {
        "colab": {
          "base_uri": "https://localhost:8080/"
        },
        "outputId": "d32dfd20-2267-4fce-bc95-2e811443a626",
        "id": "-m3aMI5v1-oP"
      },
      "execution_count": 26,
      "outputs": [
        {
          "output_type": "stream",
          "name": "stdout",
          "text": [
            "Gaji Budi: Rp 10000000\n",
            "Gaji Carysha: Rp 3000000\n"
          ]
        }
      ]
    }
  ]
}